{
 "cells": [
  {
   "cell_type": "markdown",
   "id": "627177aa-9524-4ed9-acb2-f250ce47c438",
   "metadata": {},
   "source": [
    "Q1. Which keyword is used to create a function? Create a function to return a list of odd numbers in the\n",
    "range of 1 to 25."
   ]
  },
  {
   "cell_type": "markdown",
   "id": "45d24392-2601-46bf-8b25-0816f5a8d735",
   "metadata": {},
   "source": [
    "def is a keyword which is used to create a function in Python. "
   ]
  },
  {
   "cell_type": "code",
   "execution_count": 30,
   "id": "faac8720-0adc-4357-bb6f-1c35a62a7e75",
   "metadata": {},
   "outputs": [],
   "source": [
    "def oddNumbers():\n",
    "    listOfOddNum=[]\n",
    "    for i in range(1,26):\n",
    "        if i % 2!=0:\n",
    "            listOfOddNum.append(i)\n",
    "    return listOfOddNum\n",
    "            \n",
    "            \n",
    "        \n",
    "    "
   ]
  },
  {
   "cell_type": "code",
   "execution_count": 31,
   "id": "7eeb0114-d7d2-4dd3-ac05-5796d0d1afc5",
   "metadata": {},
   "outputs": [
    {
     "data": {
      "text/plain": [
       "[1, 3, 5, 7, 9, 11, 13, 15, 17, 19, 21, 23, 25]"
      ]
     },
     "execution_count": 31,
     "metadata": {},
     "output_type": "execute_result"
    }
   ],
   "source": [
    "oddNumbers()"
   ]
  },
  {
   "cell_type": "markdown",
   "id": "bfdc0161-0830-48c1-8410-8242466680f0",
   "metadata": {},
   "source": [
    "Q2. Why *args and **kwargs is used in some functions? Create a function each for *args and **kwargs\n",
    "to demonstrate their use."
   ]
  },
  {
   "cell_type": "markdown",
   "id": "dd191aa8-e62f-4edf-b57e-87147aa66c7a",
   "metadata": {},
   "source": [
    "*args is used for to take multiple inputs where in case of **kwargs it allows you take value in the form key and value . it means dictionary "
   ]
  },
  {
   "cell_type": "code",
   "execution_count": 39,
   "id": "f1e29553-6dd0-4146-a245-c06906bc9685",
   "metadata": {},
   "outputs": [],
   "source": [
    "# *args case\n",
    "def argsCase(*args):\n",
    "    return args"
   ]
  },
  {
   "cell_type": "code",
   "execution_count": 40,
   "id": "320b4dee-6abd-4e40-b9f0-9a934fdbc105",
   "metadata": {},
   "outputs": [
    {
     "data": {
      "text/plain": [
       "(2, 4)"
      ]
     },
     "execution_count": 40,
     "metadata": {},
     "output_type": "execute_result"
    }
   ],
   "source": [
    "argsCase(2,4)"
   ]
  },
  {
   "cell_type": "code",
   "execution_count": 45,
   "id": "ffe60859-4b8d-4cc6-81f4-1c94e7eb528a",
   "metadata": {},
   "outputs": [],
   "source": [
    "# *kwargs case\n",
    "def kwargsCase(**kwargs):\n",
    "    return kwargs "
   ]
  },
  {
   "cell_type": "code",
   "execution_count": 46,
   "id": "74f2375f-db8d-48cc-ac0f-8a489e16aa75",
   "metadata": {},
   "outputs": [
    {
     "data": {
      "text/plain": [
       "{'a': 1, 'b': [1, 3, 2], 'c': 'str'}"
      ]
     },
     "execution_count": 46,
     "metadata": {},
     "output_type": "execute_result"
    }
   ],
   "source": [
    "kwargsCase(a=1,b=[1,3,2],c='str')"
   ]
  },
  {
   "cell_type": "markdown",
   "id": "75a50435-39ff-4136-b831-5f0dce2e1cb9",
   "metadata": {},
   "source": [
    "Q3. What is an iterator in python? Name the method used to initialise the iterator object and the method\n",
    "used for iteration. Use these methods to print the first five elements of the given list [2, 4, 6, 8, 10, 12, 14,\n",
    "16, 18, 20]."
   ]
  },
  {
   "cell_type": "markdown",
   "id": "b1cf6706-d6ab-4c07-95bf-63ed92ea69ce",
   "metadata": {},
   "source": [
    "Iterator is an object that allows you to iterate  lists, tuples, dictionaries, and sets. iter() is the method to initialise the object where next function is to retrieve the elements of the iterator"
   ]
  },
  {
   "cell_type": "code",
   "execution_count": 119,
   "id": "c2ac0da5-7619-4ef9-9e07-41d7f5427514",
   "metadata": {},
   "outputs": [],
   "source": [
    "list3=[2,4,6,8,10,12,14,16,18,20]"
   ]
  },
  {
   "cell_type": "code",
   "execution_count": 110,
   "id": "5c91d13b-6920-4eb1-a4e9-b4ba5a26ea67",
   "metadata": {},
   "outputs": [],
   "source": [
    "iterator=iter(list3)"
   ]
  },
  {
   "cell_type": "code",
   "execution_count": 121,
   "id": "aa9d044d-a659-4ba9-8c74-b2f0df25344b",
   "metadata": {},
   "outputs": [
    {
     "name": "stdout",
     "output_type": "stream",
     "text": [
      "2\n",
      "4\n",
      "6\n",
      "8\n",
      "10\n"
     ]
    }
   ],
   "source": [
    "for i in range(5):\n",
    "    print(next(iterator))"
   ]
  },
  {
   "cell_type": "markdown",
   "id": "61d598b8-1c44-47eb-9fef-5a33d2db2e84",
   "metadata": {},
   "source": [
    "Q4. What is a generator function in python? Why yield keyword is used? Give an example of a generator\n",
    "function."
   ]
  },
  {
   "cell_type": "raw",
   "id": "7d04b3fe-db15-47b7-b812-0649a88bf4b0",
   "metadata": {},
   "source": [
    "A generator function in Python is a function that returns an iterator.The yield keyword is used in generator functions to produce values one at a time"
   ]
  },
  {
   "cell_type": "code",
   "execution_count": 1,
   "id": "ba0e5f1b-f05c-4a2a-8e8f-62e61f3c0d41",
   "metadata": {},
   "outputs": [],
   "source": [
    "def generatorFunction():\n",
    "    for i in range(10):\n",
    "        yield i"
   ]
  },
  {
   "cell_type": "code",
   "execution_count": 2,
   "id": "5d7103b4-5008-4f80-b4a3-9c50be2a3efb",
   "metadata": {},
   "outputs": [
    {
     "name": "stdout",
     "output_type": "stream",
     "text": [
      "0\n",
      "1\n",
      "2\n",
      "3\n",
      "4\n",
      "5\n",
      "6\n",
      "7\n",
      "8\n",
      "9\n"
     ]
    }
   ],
   "source": [
    "for i in generatorFunction():\n",
    "    print(i)"
   ]
  },
  {
   "cell_type": "markdown",
   "id": "e129f162-3f8a-4e14-8df7-bc4eac57848b",
   "metadata": {},
   "source": [
    "Q5. Create a generator function for prime numbers less than 1000. Use the next() method to print the\n",
    "first 20 prime numbers."
   ]
  },
  {
   "cell_type": "code",
   "execution_count": 48,
   "id": "c47ab911-ae06-427b-b323-17008d11b356",
   "metadata": {},
   "outputs": [],
   "source": [
    "def prime_generator():\n",
    "    # Create a list of all the numbers from 2 to 1000\n",
    "    numbers = list(range(2, 1001))\n",
    "\n",
    "    # Iterate over the list of numbers\n",
    "    for number in numbers:\n",
    "\n",
    "        # Check if the number is prime\n",
    "        is_prime = True\n",
    "        for i in range(2, int(number**0.5) + 1):\n",
    "            if number % i == 0:\n",
    "                is_prime = False\n",
    "                break\n",
    "\n",
    "        # If the number is prime, yield it\n",
    "        if is_prime:\n",
    "            yield number\n"
   ]
  },
  {
   "cell_type": "code",
   "execution_count": 49,
   "id": "eff53720-82bb-4696-8438-86622df791fe",
   "metadata": {},
   "outputs": [],
   "source": [
    "c=prime_generator()\n",
    "itr=iter(c)"
   ]
  },
  {
   "cell_type": "code",
   "execution_count": 51,
   "id": "98dd9c7c-90f8-4c60-9304-be18facc8b92",
   "metadata": {},
   "outputs": [
    {
     "name": "stdout",
     "output_type": "stream",
     "text": [
      "5\n",
      "7\n",
      "11\n",
      "13\n",
      "17\n",
      "19\n",
      "23\n",
      "29\n",
      "31\n",
      "37\n",
      "41\n",
      "43\n",
      "47\n",
      "53\n",
      "59\n",
      "61\n",
      "67\n",
      "71\n",
      "73\n",
      "79\n"
     ]
    }
   ],
   "source": [
    "for i in range(20):\n",
    "    print(next(itr))\n",
    "    \n",
    "    \n",
    "    \n",
    "    "
   ]
  },
  {
   "cell_type": "markdown",
   "id": "dc452ef7-e95a-4f38-8249-a031320f51d5",
   "metadata": {},
   "source": [
    "Q6. Write a python program to print the first 10 Fibonacci numbers using a while loop."
   ]
  },
  {
   "cell_type": "code",
   "execution_count": 6,
   "id": "c212ce4e-1d64-48bd-acc2-3f4f76407b72",
   "metadata": {},
   "outputs": [],
   "source": [
    "def fibNum(n):\n",
    "    x,y=0,1\n",
    "    while x<n:\n",
    "        x,y=y,x+y\n",
    "    return x\n",
    "        \n",
    "    \n",
    "    \n",
    "\n",
    "\n",
    "    "
   ]
  },
  {
   "cell_type": "code",
   "execution_count": 7,
   "id": "bcd60b97-25c5-40c6-a99a-76efec7dd90f",
   "metadata": {},
   "outputs": [
    {
     "name": "stdout",
     "output_type": "stream",
     "text": [
      "0\n",
      "1\n",
      "2\n",
      "3\n",
      "5\n",
      "5\n",
      "8\n",
      "8\n",
      "8\n",
      "13\n"
     ]
    }
   ],
   "source": [
    "for i in range(10):\n",
    "    print(fibNum(i))\n"
   ]
  },
  {
   "cell_type": "markdown",
   "id": "70788fa4-4595-4f13-9a42-c77f10bcc84f",
   "metadata": {},
   "source": [
    "Q7. Write a List Comprehension to iterate through the given string: ‘pwskills’.\n",
    "Expected output: ['p', 'w', 's', 'k', 'i', 'l', 'l', 's']"
   ]
  },
  {
   "cell_type": "code",
   "execution_count": 37,
   "id": "549a20c7-3f4c-4d93-bda0-67c938ebebf0",
   "metadata": {},
   "outputs": [],
   "source": [
    "s='pwskills'"
   ]
  },
  {
   "cell_type": "code",
   "execution_count": 41,
   "id": "fc661f26-784b-4c8b-bcb5-abf036b5a37a",
   "metadata": {},
   "outputs": [],
   "source": [
    "list_comprehension = [i for i in s]"
   ]
  },
  {
   "cell_type": "code",
   "execution_count": 42,
   "id": "fb43539c-50d6-41c6-923d-5f522585a931",
   "metadata": {},
   "outputs": [
    {
     "name": "stdout",
     "output_type": "stream",
     "text": [
      "['p', 'w', 's', 'k', 'i', 'l', 'l', 's']\n"
     ]
    }
   ],
   "source": [
    "print(list_comprehension)"
   ]
  },
  {
   "cell_type": "markdown",
   "id": "b77b3145-d4d6-4cd7-9846-636439aafbc9",
   "metadata": {},
   "source": [
    "Q8. Write a python program to check whether a given number is Palindrome or not using a while loop."
   ]
  },
  {
   "cell_type": "code",
   "execution_count": 1,
   "id": "67e6827e-e292-41af-b4a8-d46707047572",
   "metadata": {},
   "outputs": [
    {
     "name": "stdin",
     "output_type": "stream",
     "text": [
      "Enter a number:  12\n"
     ]
    },
    {
     "name": "stdout",
     "output_type": "stream",
     "text": [
      "The number is not a palindrome!\n"
     ]
    }
   ],
   "source": [
    "def is_palindrome(number):\n",
    "  reversed_number = 0\n",
    "  temp = number \n",
    "  while number > 0:\n",
    "    reversed_number = reversed_number * 10 + number % 10\n",
    "    number //= 10\n",
    "\n",
    "  return temp == reversed_number\n",
    "\n",
    "\n",
    "number = int(input(\"Enter a number: \"))\n",
    "\n",
    "if is_palindrome(number):\n",
    "  print(\"The number is a palindrome!\")\n",
    "else:\n",
    "  print(\"The number is not a palindrome!\")\n"
   ]
  },
  {
   "cell_type": "markdown",
   "id": "959b00cb-5778-4962-a8c5-a15130f83282",
   "metadata": {},
   "source": [
    "Q9.Write a code to print odd numbers from 1 to 100 using list comprehension."
   ]
  },
  {
   "cell_type": "code",
   "execution_count": 8,
   "id": "c1c899b5-a369-46f6-a800-9f6983af5083",
   "metadata": {},
   "outputs": [
    {
     "name": "stdout",
     "output_type": "stream",
     "text": [
      "1\n",
      "3\n",
      "5\n",
      "7\n",
      "9\n",
      "11\n",
      "13\n",
      "15\n",
      "17\n",
      "19\n",
      "21\n",
      "23\n",
      "25\n",
      "27\n",
      "29\n",
      "31\n",
      "33\n",
      "35\n",
      "37\n",
      "39\n",
      "41\n",
      "43\n",
      "45\n",
      "47\n",
      "49\n",
      "51\n",
      "53\n",
      "55\n",
      "57\n",
      "59\n",
      "61\n",
      "63\n",
      "65\n",
      "67\n",
      "69\n",
      "71\n",
      "73\n",
      "75\n",
      "77\n",
      "79\n",
      "81\n",
      "83\n",
      "85\n",
      "87\n",
      "89\n",
      "91\n",
      "93\n",
      "95\n",
      "97\n",
      "99\n"
     ]
    }
   ],
   "source": [
    "odd_numbers = [number for number in range(1, 101) if number % 2 == 1]\n",
    "\n",
    "for number in odd_numbers:\n",
    "  print(number)"
   ]
  },
  {
   "cell_type": "code",
   "execution_count": null,
   "id": "45bac2d6-03c0-4178-b084-45837bd5d4b7",
   "metadata": {},
   "outputs": [],
   "source": []
  }
 ],
 "metadata": {
  "kernelspec": {
   "display_name": "Python 3 (ipykernel)",
   "language": "python",
   "name": "python3"
  },
  "language_info": {
   "codemirror_mode": {
    "name": "ipython",
    "version": 3
   },
   "file_extension": ".py",
   "mimetype": "text/x-python",
   "name": "python",
   "nbconvert_exporter": "python",
   "pygments_lexer": "ipython3",
   "version": "3.10.8"
  }
 },
 "nbformat": 4,
 "nbformat_minor": 5
}
