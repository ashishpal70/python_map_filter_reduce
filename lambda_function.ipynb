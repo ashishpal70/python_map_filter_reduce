{
 "cells": [
  {
   "cell_type": "code",
   "execution_count": 1,
   "id": "fa872ebb-59e7-4d9c-b6e6-df9421bc7af9",
   "metadata": {},
   "outputs": [],
   "source": [
    "#Lambda Functions"
   ]
  },
  {
   "cell_type": "code",
   "execution_count": 2,
   "id": "8e6f6342-1205-4827-904a-2cf74fb9c8fb",
   "metadata": {},
   "outputs": [],
   "source": [
    "n=3\n",
    "p=2"
   ]
  },
  {
   "cell_type": "code",
   "execution_count": 3,
   "id": "1295bba7-7133-4d56-9490-571b24be19d8",
   "metadata": {},
   "outputs": [],
   "source": [
    "def test(n,p):\n",
    "    return n**p"
   ]
  },
  {
   "cell_type": "code",
   "execution_count": 4,
   "id": "576c0a62-52a2-4902-9a47-44e9da2d8d58",
   "metadata": {},
   "outputs": [
    {
     "data": {
      "text/plain": [
       "8"
      ]
     },
     "execution_count": 4,
     "metadata": {},
     "output_type": "execute_result"
    }
   ],
   "source": [
    "test(2,3)"
   ]
  },
  {
   "cell_type": "code",
   "execution_count": 7,
   "id": "e2593581-0923-4fee-9c2d-fac5fdbe84c9",
   "metadata": {},
   "outputs": [],
   "source": [
    "a=lambda n,p:n**p\n"
   ]
  },
  {
   "cell_type": "code",
   "execution_count": 8,
   "id": "de118dcf-40db-4eb9-a928-e5fb702d4470",
   "metadata": {},
   "outputs": [
    {
     "data": {
      "text/plain": [
       "27"
      ]
     },
     "execution_count": 8,
     "metadata": {},
     "output_type": "execute_result"
    }
   ],
   "source": [
    "a(3,3)"
   ]
  },
  {
   "cell_type": "code",
   "execution_count": 9,
   "id": "1fdca781-3f2e-4f59-a9d2-7b5f22c2d635",
   "metadata": {},
   "outputs": [],
   "source": [
    "add = lambda x,y: x+y"
   ]
  },
  {
   "cell_type": "code",
   "execution_count": 10,
   "id": "ca335fa6-8d7d-48d6-b281-c26949b97baf",
   "metadata": {},
   "outputs": [
    {
     "data": {
      "text/plain": [
       "6"
      ]
     },
     "execution_count": 10,
     "metadata": {},
     "output_type": "execute_result"
    }
   ],
   "source": [
    "add(2,4)"
   ]
  },
  {
   "cell_type": "code",
   "execution_count": 15,
   "id": "8d6d9876-b6de-440d-a616-79fd045da159",
   "metadata": {},
   "outputs": [],
   "source": [
    "c_to_f = lambda c:(9/5)*c + 32"
   ]
  },
  {
   "cell_type": "code",
   "execution_count": 16,
   "id": "91170d33-5430-42d6-9467-aecaf85dff94",
   "metadata": {},
   "outputs": [
    {
     "data": {
      "text/plain": [
       "113.0"
      ]
     },
     "execution_count": 16,
     "metadata": {},
     "output_type": "execute_result"
    }
   ],
   "source": [
    "c_to_f(45)"
   ]
  },
  {
   "cell_type": "code",
   "execution_count": 18,
   "id": "b26230c8-eadf-472e-99e5-5db6d44f2ab0",
   "metadata": {},
   "outputs": [],
   "source": [
    "finding_max = lambda x,y : x if x>y else y"
   ]
  },
  {
   "cell_type": "code",
   "execution_count": 19,
   "id": "61a31d17-179e-4a8b-b854-f7e9564e5630",
   "metadata": {},
   "outputs": [
    {
     "data": {
      "text/plain": [
       "344"
      ]
     },
     "execution_count": 19,
     "metadata": {},
     "output_type": "execute_result"
    }
   ],
   "source": [
    "finding_max(34,344)"
   ]
  },
  {
   "cell_type": "code",
   "execution_count": 23,
   "id": "f192c221-98d4-4d74-b0a5-62e461d71fe2",
   "metadata": {},
   "outputs": [],
   "source": [
    "s=\"world\""
   ]
  },
  {
   "cell_type": "code",
   "execution_count": 24,
   "id": "77df0d89-8f63-4363-817c-8461601e0933",
   "metadata": {},
   "outputs": [],
   "source": [
    "find_len=lambda s : len(s)"
   ]
  },
  {
   "cell_type": "code",
   "execution_count": 25,
   "id": "77073624-70dc-4f8e-94be-1ee18d08df3b",
   "metadata": {},
   "outputs": [
    {
     "data": {
      "text/plain": [
       "5"
      ]
     },
     "execution_count": 25,
     "metadata": {},
     "output_type": "execute_result"
    }
   ],
   "source": [
    "find_len(s)"
   ]
  },
  {
   "cell_type": "code",
   "execution_count": null,
   "id": "40d75d7a-e887-4298-afa9-7772cde2fef8",
   "metadata": {},
   "outputs": [],
   "source": []
  }
 ],
 "metadata": {
  "kernelspec": {
   "display_name": "Python 3 (ipykernel)",
   "language": "python",
   "name": "python3"
  },
  "language_info": {
   "codemirror_mode": {
    "name": "ipython",
    "version": 3
   },
   "file_extension": ".py",
   "mimetype": "text/x-python",
   "name": "python",
   "nbconvert_exporter": "python",
   "pygments_lexer": "ipython3",
   "version": "3.10.8"
  }
 },
 "nbformat": 4,
 "nbformat_minor": 5
}
