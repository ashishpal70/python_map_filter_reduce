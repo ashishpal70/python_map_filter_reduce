{
 "cells": [
  {
   "cell_type": "code",
   "execution_count": 1,
   "id": "6dd4fff8-27be-4b88-9e0d-934457ffb805",
   "metadata": {},
   "outputs": [],
   "source": [
    "#Functions"
   ]
  },
  {
   "cell_type": "code",
   "execution_count": 2,
   "id": "93d33477-86a0-4f42-a8b4-4b3252395a90",
   "metadata": {},
   "outputs": [],
   "source": [
    "def test():\n",
    "    pass"
   ]
  },
  {
   "cell_type": "code",
   "execution_count": 3,
   "id": "09c55223-e4a0-4426-b5cf-f63b2117344b",
   "metadata": {},
   "outputs": [],
   "source": [
    "def test():\n",
    "    print(\"This is function\")"
   ]
  },
  {
   "cell_type": "code",
   "execution_count": 4,
   "id": "76ac8409-8193-4907-b625-195ebae60f75",
   "metadata": {},
   "outputs": [
    {
     "name": "stdout",
     "output_type": "stream",
     "text": [
      "This is function\n"
     ]
    }
   ],
   "source": [
    "test()"
   ]
  },
  {
   "cell_type": "code",
   "execution_count": 5,
   "id": "dc3b9a7b-c67e-4519-8d3e-6aa128c1b3e7",
   "metadata": {},
   "outputs": [],
   "source": [
    "# Function is used for reuseability of code."
   ]
  },
  {
   "cell_type": "code",
   "execution_count": 6,
   "id": "07c9ad57-9296-4060-aa5c-00fd7870a975",
   "metadata": {},
   "outputs": [
    {
     "name": "stdout",
     "output_type": "stream",
     "text": [
      "This is function\n"
     ]
    },
    {
     "ename": "TypeError",
     "evalue": "unsupported operand type(s) for +: 'NoneType' and 'str'",
     "output_type": "error",
     "traceback": [
      "\u001b[0;31m---------------------------------------------------------------------------\u001b[0m",
      "\u001b[0;31mTypeError\u001b[0m                                 Traceback (most recent call last)",
      "Cell \u001b[0;32mIn[6], line 1\u001b[0m\n\u001b[0;32m----> 1\u001b[0m \u001b[43mtest\u001b[49m\u001b[43m(\u001b[49m\u001b[43m)\u001b[49m\u001b[43m \u001b[49m\u001b[38;5;241;43m+\u001b[39;49m\u001b[43m \u001b[49m\u001b[38;5;124;43m'\u001b[39;49m\u001b[38;5;124;43mpy\u001b[39;49m\u001b[38;5;124;43m'\u001b[39;49m\n",
      "\u001b[0;31mTypeError\u001b[0m: unsupported operand type(s) for +: 'NoneType' and 'str'"
     ]
    }
   ],
   "source": [
    "test() + 'py'"
   ]
  },
  {
   "cell_type": "code",
   "execution_count": 7,
   "id": "d5682798-83a4-44ba-919f-144407de19f3",
   "metadata": {},
   "outputs": [],
   "source": [
    "def test1():\n",
    "    return \"This is my return\""
   ]
  },
  {
   "cell_type": "code",
   "execution_count": 8,
   "id": "82ed8476-5113-4dd3-9d1c-7fcb7aa009bd",
   "metadata": {},
   "outputs": [
    {
     "data": {
      "text/plain": [
       "'This is my return'"
      ]
     },
     "execution_count": 8,
     "metadata": {},
     "output_type": "execute_result"
    }
   ],
   "source": [
    "test1()"
   ]
  },
  {
   "cell_type": "code",
   "execution_count": 9,
   "id": "f47e8f14-2c05-45d6-ad81-10cc67cd2884",
   "metadata": {},
   "outputs": [
    {
     "data": {
      "text/plain": [
       "'This is my returnin python'"
      ]
     },
     "execution_count": 9,
     "metadata": {},
     "output_type": "execute_result"
    }
   ],
   "source": [
    "test1() + 'in python'"
   ]
  },
  {
   "cell_type": "code",
   "execution_count": 10,
   "id": "e7bf6fc8-24f7-4027-bb04-e7e3b1bab64d",
   "metadata": {},
   "outputs": [],
   "source": [
    "def test2():\n",
    "    return \"world\",23,34.5,[1,2,3],True"
   ]
  },
  {
   "cell_type": "code",
   "execution_count": 11,
   "id": "65a795ac-7a54-4cb0-a9f9-11bf444876a5",
   "metadata": {},
   "outputs": [
    {
     "data": {
      "text/plain": [
       "('world', 23, 34.5, [1, 2, 3], True)"
      ]
     },
     "execution_count": 11,
     "metadata": {},
     "output_type": "execute_result"
    }
   ],
   "source": [
    "test2()"
   ]
  },
  {
   "cell_type": "code",
   "execution_count": 12,
   "id": "8f3031c1-b1d6-48f2-8648-8feac3b56ef3",
   "metadata": {},
   "outputs": [],
   "source": [
    "a,b,c,d,e=test2()"
   ]
  },
  {
   "cell_type": "code",
   "execution_count": 13,
   "id": "d1755472-aa58-49bd-a93a-6228414e33ba",
   "metadata": {},
   "outputs": [
    {
     "data": {
      "text/plain": [
       "'world'"
      ]
     },
     "execution_count": 13,
     "metadata": {},
     "output_type": "execute_result"
    }
   ],
   "source": [
    "a"
   ]
  },
  {
   "cell_type": "code",
   "execution_count": 14,
   "id": "2b6c1722-c34d-47db-b2c0-0357aafa9653",
   "metadata": {},
   "outputs": [
    {
     "data": {
      "text/plain": [
       "23"
      ]
     },
     "execution_count": 14,
     "metadata": {},
     "output_type": "execute_result"
    }
   ],
   "source": [
    "b"
   ]
  },
  {
   "cell_type": "code",
   "execution_count": 1,
   "id": "8928fd15-d7cf-4b42-83f7-6708e9861a83",
   "metadata": {},
   "outputs": [],
   "source": [
    "def test3():\n",
    "    a=5+6/7\n",
    "    return a"
   ]
  },
  {
   "cell_type": "code",
   "execution_count": 2,
   "id": "2f81c700-d836-4e69-918b-7d33e1dd9102",
   "metadata": {},
   "outputs": [
    {
     "data": {
      "text/plain": [
       "5.857142857142857"
      ]
     },
     "execution_count": 2,
     "metadata": {},
     "output_type": "execute_result"
    }
   ],
   "source": [
    "test3()"
   ]
  },
  {
   "cell_type": "code",
   "execution_count": 3,
   "id": "0666b890-0ed2-4056-a975-8565b383c7e2",
   "metadata": {},
   "outputs": [],
   "source": [
    "def test4(a,b,c):\n",
    "    d=a+b/c\n",
    "    return d"
   ]
  },
  {
   "cell_type": "code",
   "execution_count": 4,
   "id": "346d244d-dfe4-46e3-ba38-43af40b156a8",
   "metadata": {},
   "outputs": [
    {
     "ename": "TypeError",
     "evalue": "test4() missing 3 required positional arguments: 'a', 'b', and 'c'",
     "output_type": "error",
     "traceback": [
      "\u001b[0;31m---------------------------------------------------------------------------\u001b[0m",
      "\u001b[0;31mTypeError\u001b[0m                                 Traceback (most recent call last)",
      "Cell \u001b[0;32mIn[4], line 1\u001b[0m\n\u001b[0;32m----> 1\u001b[0m \u001b[43mtest4\u001b[49m\u001b[43m(\u001b[49m\u001b[43m)\u001b[49m\n",
      "\u001b[0;31mTypeError\u001b[0m: test4() missing 3 required positional arguments: 'a', 'b', and 'c'"
     ]
    }
   ],
   "source": [
    "test4()"
   ]
  },
  {
   "cell_type": "code",
   "execution_count": 5,
   "id": "5c9689d4-3819-4a93-b28e-a67b16af170a",
   "metadata": {},
   "outputs": [
    {
     "data": {
      "text/plain": [
       "10.25"
      ]
     },
     "execution_count": 5,
     "metadata": {},
     "output_type": "execute_result"
    }
   ],
   "source": [
    "test4(8,9,4)"
   ]
  },
  {
   "cell_type": "code",
   "execution_count": 6,
   "id": "9080d26a-cb1b-4fb0-91af-c9bbaffbed91",
   "metadata": {},
   "outputs": [],
   "source": [
    "def test5(a,b):\n",
    "    return a+b"
   ]
  },
  {
   "cell_type": "code",
   "execution_count": 7,
   "id": "87beb8f3-b99c-488a-a534-2195941bba20",
   "metadata": {},
   "outputs": [
    {
     "data": {
      "text/plain": [
       "13"
      ]
     },
     "execution_count": 7,
     "metadata": {},
     "output_type": "execute_result"
    }
   ],
   "source": [
    "test5(4,9)"
   ]
  },
  {
   "cell_type": "code",
   "execution_count": 8,
   "id": "d015ea6a-b7c0-46f3-99ad-7d00a247a54b",
   "metadata": {},
   "outputs": [
    {
     "data": {
      "text/plain": [
       "'peacewar'"
      ]
     },
     "execution_count": 8,
     "metadata": {},
     "output_type": "execute_result"
    }
   ],
   "source": [
    "test5('peace',\"war\")"
   ]
  },
  {
   "cell_type": "code",
   "execution_count": 9,
   "id": "f61211ae-cbf5-4515-a6c3-55c35efd9e7f",
   "metadata": {},
   "outputs": [
    {
     "data": {
      "text/plain": [
       "[1, 3, 5, 9, 5, 8]"
      ]
     },
     "execution_count": 9,
     "metadata": {},
     "output_type": "execute_result"
    }
   ],
   "source": [
    "test5([1,3,5],[9,5,8])"
   ]
  },
  {
   "cell_type": "code",
   "execution_count": 10,
   "id": "bfae9192-dd2d-4631-a274-916c1d5acd43",
   "metadata": {},
   "outputs": [],
   "source": [
    "l=[1,2,3,4,\"pal\",[1,3,4,5]]"
   ]
  },
  {
   "cell_type": "code",
   "execution_count": 11,
   "id": "42d0bdd6-d1d6-43a1-9a79-3ccf92203d8d",
   "metadata": {},
   "outputs": [],
   "source": [
    "def test6(l):\n",
    "    l1=[]\n",
    "    for i in l:\n",
    "        l1.append(i)\n",
    "    return l1\n",
    "        "
   ]
  },
  {
   "cell_type": "code",
   "execution_count": 12,
   "id": "24587040-5d9a-44c1-94c5-5136a8eefa7d",
   "metadata": {},
   "outputs": [
    {
     "data": {
      "text/plain": [
       "[1, 2, 3, 4, 'pal', [1, 3, 4, 5]]"
      ]
     },
     "execution_count": 12,
     "metadata": {},
     "output_type": "execute_result"
    }
   ],
   "source": [
    "test6(l)"
   ]
  },
  {
   "cell_type": "code",
   "execution_count": 15,
   "id": "352ad6f1-ddd6-46bd-8c58-7056b02a72d7",
   "metadata": {},
   "outputs": [],
   "source": [
    "def test7(l):\n",
    "    ''' This is my function to extract num data from list'''\n",
    "    l1=[]\n",
    "    for i in l:\n",
    "        if type(i)==list:\n",
    "            for j in i:\n",
    "                l1.append(j)\n",
    "        else:\n",
    "            if type(i)==int or type(i)==float:\n",
    "                l1.append(i)\n",
    "    return l1\n",
    "        "
   ]
  },
  {
   "cell_type": "code",
   "execution_count": 16,
   "id": "1abd737f-ed15-4956-9b11-ff39b4f5aa80",
   "metadata": {},
   "outputs": [
    {
     "data": {
      "text/plain": [
       "[1, 2, 3, 4, 1, 3, 4, 5]"
      ]
     },
     "execution_count": 16,
     "metadata": {},
     "output_type": "execute_result"
    }
   ],
   "source": [
    "test7(l)"
   ]
  },
  {
   "cell_type": "code",
   "execution_count": 17,
   "id": "6fc8e404-a850-4c6a-aca6-9a477a547eb3",
   "metadata": {},
   "outputs": [],
   "source": [
    "def test8(*args):\n",
    "    return args\n",
    "    "
   ]
  },
  {
   "cell_type": "code",
   "execution_count": 18,
   "id": "c1927918-8f4f-4798-a2cb-3ec50f246f07",
   "metadata": {},
   "outputs": [
    {
     "data": {
      "text/plain": [
       "tuple"
      ]
     },
     "execution_count": 18,
     "metadata": {},
     "output_type": "execute_result"
    }
   ],
   "source": [
    "type(test8())"
   ]
  },
  {
   "cell_type": "code",
   "execution_count": 20,
   "id": "6403206e-91ad-4d72-877a-a99a81c6a72d",
   "metadata": {},
   "outputs": [
    {
     "data": {
      "text/plain": [
       "(1, 2, 4)"
      ]
     },
     "execution_count": 20,
     "metadata": {},
     "output_type": "execute_result"
    }
   ],
   "source": [
    "test8(1,2,4)"
   ]
  },
  {
   "cell_type": "code",
   "execution_count": 21,
   "id": "ec43d8ff-ed6f-4f1a-8953-67ed86c0e5f3",
   "metadata": {},
   "outputs": [],
   "source": [
    "def test9(*ht):\n",
    "    return ht"
   ]
  },
  {
   "cell_type": "code",
   "execution_count": 22,
   "id": "0e27a917-7671-41e5-acb1-bcdc2509f926",
   "metadata": {},
   "outputs": [
    {
     "data": {
      "text/plain": [
       "(9, 3)"
      ]
     },
     "execution_count": 22,
     "metadata": {},
     "output_type": "execute_result"
    }
   ],
   "source": [
    "test9(9,3)"
   ]
  },
  {
   "cell_type": "code",
   "execution_count": 23,
   "id": "04d92640-4e48-42dd-9ceb-1b726d2a46a0",
   "metadata": {},
   "outputs": [],
   "source": [
    "# * is used to give n number of inputs"
   ]
  },
  {
   "cell_type": "code",
   "execution_count": 24,
   "id": "f0185769-0f83-46a5-b465-f9cf51dba5ab",
   "metadata": {},
   "outputs": [],
   "source": [
    "def test10(*args,a):\n",
    "    return args,a"
   ]
  },
  {
   "cell_type": "code",
   "execution_count": 25,
   "id": "ef5be770-6b93-4bec-90d9-1d991e160656",
   "metadata": {},
   "outputs": [
    {
     "ename": "TypeError",
     "evalue": "test10() missing 1 required keyword-only argument: 'a'",
     "output_type": "error",
     "traceback": [
      "\u001b[0;31m---------------------------------------------------------------------------\u001b[0m",
      "\u001b[0;31mTypeError\u001b[0m                                 Traceback (most recent call last)",
      "Cell \u001b[0;32mIn[25], line 1\u001b[0m\n\u001b[0;32m----> 1\u001b[0m \u001b[43mtest10\u001b[49m\u001b[43m(\u001b[49m\u001b[38;5;241;43m1\u001b[39;49m\u001b[43m,\u001b[49m\u001b[38;5;241;43m3\u001b[39;49m\u001b[43m,\u001b[49m\u001b[38;5;241;43m4\u001b[39;49m\u001b[43m,\u001b[49m\u001b[38;5;241;43m6\u001b[39;49m\u001b[43m)\u001b[49m\n",
      "\u001b[0;31mTypeError\u001b[0m: test10() missing 1 required keyword-only argument: 'a'"
     ]
    }
   ],
   "source": [
    "test10(1,3,4,6)"
   ]
  },
  {
   "cell_type": "code",
   "execution_count": 28,
   "id": "7815a116-8362-4b95-838e-bf41cef211c9",
   "metadata": {},
   "outputs": [
    {
     "data": {
      "text/plain": [
       "((1, 2, 6, 8), 23)"
      ]
     },
     "execution_count": 28,
     "metadata": {},
     "output_type": "execute_result"
    }
   ],
   "source": [
    "test10(1,2,6,8, a=23)"
   ]
  },
  {
   "cell_type": "code",
   "execution_count": 29,
   "id": "5f92873b-a695-447e-8979-a2b1fb4fb028",
   "metadata": {},
   "outputs": [],
   "source": [
    "def test11(c,d,a=23,b=8):\n",
    "    return a,b,c,d"
   ]
  },
  {
   "cell_type": "code",
   "execution_count": 30,
   "id": "a0a85469-a2a1-4fd5-8dd3-b5b9faaad198",
   "metadata": {},
   "outputs": [
    {
     "ename": "TypeError",
     "evalue": "test11() missing 2 required positional arguments: 'c' and 'd'",
     "output_type": "error",
     "traceback": [
      "\u001b[0;31m---------------------------------------------------------------------------\u001b[0m",
      "\u001b[0;31mTypeError\u001b[0m                                 Traceback (most recent call last)",
      "Cell \u001b[0;32mIn[30], line 1\u001b[0m\n\u001b[0;32m----> 1\u001b[0m \u001b[43mtest11\u001b[49m\u001b[43m(\u001b[49m\u001b[43m)\u001b[49m\n",
      "\u001b[0;31mTypeError\u001b[0m: test11() missing 2 required positional arguments: 'c' and 'd'"
     ]
    }
   ],
   "source": [
    "test11()"
   ]
  },
  {
   "cell_type": "code",
   "execution_count": 31,
   "id": "667b2715-cab5-44bf-a9c1-0df050e1eb6f",
   "metadata": {},
   "outputs": [
    {
     "data": {
      "text/plain": [
       "(23, 8, 1, 8)"
      ]
     },
     "execution_count": 31,
     "metadata": {},
     "output_type": "execute_result"
    }
   ],
   "source": [
    "test11(1,8)"
   ]
  },
  {
   "cell_type": "code",
   "execution_count": 32,
   "id": "c574fb7f-b35f-4dd8-a484-e19d7f8dd32d",
   "metadata": {},
   "outputs": [],
   "source": [
    "def test15(**kwargs):\n",
    "    return kwargs"
   ]
  },
  {
   "cell_type": "code",
   "execution_count": 33,
   "id": "1a78fe91-57f2-45e1-ba86-d2f8cb4f52b9",
   "metadata": {},
   "outputs": [
    {
     "data": {
      "text/plain": [
       "{}"
      ]
     },
     "execution_count": 33,
     "metadata": {},
     "output_type": "execute_result"
    }
   ],
   "source": [
    "test15()"
   ]
  },
  {
   "cell_type": "code",
   "execution_count": 34,
   "id": "75850c4d-8d9a-4447-aab0-e905fb73e190",
   "metadata": {},
   "outputs": [
    {
     "data": {
      "text/plain": [
       "{'a': [1, 2, 2], 'b': 'sudh', 'c': 23.89}"
      ]
     },
     "execution_count": 34,
     "metadata": {},
     "output_type": "execute_result"
    }
   ],
   "source": [
    "test15(a=[1,2,2],b=\"sudh\",c=23.89)"
   ]
  },
  {
   "cell_type": "code",
   "execution_count": null,
   "id": "cce0a331-9e70-463a-89a8-dfe458becadd",
   "metadata": {},
   "outputs": [],
   "source": []
  }
 ],
 "metadata": {
  "kernelspec": {
   "display_name": "Python 3 (ipykernel)",
   "language": "python",
   "name": "python3"
  },
  "language_info": {
   "codemirror_mode": {
    "name": "ipython",
    "version": 3
   },
   "file_extension": ".py",
   "mimetype": "text/x-python",
   "name": "python",
   "nbconvert_exporter": "python",
   "pygments_lexer": "ipython3",
   "version": "3.10.8"
  }
 },
 "nbformat": 4,
 "nbformat_minor": 5
}
